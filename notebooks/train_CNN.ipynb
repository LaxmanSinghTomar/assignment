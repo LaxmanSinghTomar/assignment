{
  "nbformat": 4,
  "nbformat_minor": 0,
  "metadata": {
    "colab": {
      "name": "train_CNN.ipynb",
      "provenance": [],
      "collapsed_sections": []
    },
    "kernelspec": {
      "name": "python3",
      "display_name": "Python 3"
    },
    "language_info": {
      "name": "python"
    },
    "accelerator": "GPU"
  },
  "cells": [
    {
      "cell_type": "code",
      "metadata": {
        "colab": {
          "base_uri": "https://localhost:8080/"
        },
        "id": "M3QoCnuwSoN8",
        "outputId": "6e6c3ad0-4a4d-44cc-ffeb-a2c545f869c9"
      },
      "source": [
        "# Importing Libraries\n",
        "\n",
        "import tensorflow as tf; print(tf.__version__)\n",
        "from tensorflow.keras.utils import to_categorical\n",
        "from tensorflow.keras.models import Sequential\n",
        "from tensorflow.keras.layers import Conv2D, MaxPooling2D, Dense, Flatten, Dropout\n",
        "from tensorflow.keras.optimizers import SGD\n",
        "\n",
        "import numpy as np\n",
        "np.random.seed(42)\n",
        "import matplotlib.pyplot as plt"
      ],
      "execution_count": 1,
      "outputs": [
        {
          "output_type": "stream",
          "name": "stdout",
          "text": [
            "2.6.0\n"
          ]
        }
      ]
    },
    {
      "cell_type": "code",
      "metadata": {
        "colab": {
          "base_uri": "https://localhost:8080/"
        },
        "id": "ICrzRYf9UPGM",
        "outputId": "8be2274d-be4e-4f57-d2b6-a6318c94683a"
      },
      "source": [
        "# Download Dataset and Split into train and test\n",
        "fashion_mnist = tf.keras.datasets.fashion_mnist\n",
        "(train_images, train_labels), (test_images, test_labels) = fashion_mnist.load_data()"
      ],
      "execution_count": 2,
      "outputs": [
        {
          "output_type": "stream",
          "name": "stdout",
          "text": [
            "Downloading data from https://storage.googleapis.com/tensorflow/tf-keras-datasets/train-labels-idx1-ubyte.gz\n",
            "32768/29515 [=================================] - 0s 0us/step\n",
            "40960/29515 [=========================================] - 0s 0us/step\n",
            "Downloading data from https://storage.googleapis.com/tensorflow/tf-keras-datasets/train-images-idx3-ubyte.gz\n",
            "26427392/26421880 [==============================] - 0s 0us/step\n",
            "26435584/26421880 [==============================] - 0s 0us/step\n",
            "Downloading data from https://storage.googleapis.com/tensorflow/tf-keras-datasets/t10k-labels-idx1-ubyte.gz\n",
            "16384/5148 [===============================================================================================] - 0s 0us/step\n",
            "Downloading data from https://storage.googleapis.com/tensorflow/tf-keras-datasets/t10k-images-idx3-ubyte.gz\n",
            "4423680/4422102 [==============================] - 0s 0us/step\n",
            "4431872/4422102 [==============================] - 0s 0us/step\n"
          ]
        }
      ]
    },
    {
      "cell_type": "code",
      "metadata": {
        "colab": {
          "base_uri": "https://localhost:8080/"
        },
        "id": "x2sm8McJUPDU",
        "outputId": "56ad128c-7f4c-4c71-e496-eb94e2c5be2f"
      },
      "source": [
        "print(train_images.shape, train_labels.shape)"
      ],
      "execution_count": 3,
      "outputs": [
        {
          "output_type": "stream",
          "name": "stdout",
          "text": [
            "(60000, 28, 28) (60000,)\n"
          ]
        }
      ]
    },
    {
      "cell_type": "code",
      "metadata": {
        "colab": {
          "base_uri": "https://localhost:8080/"
        },
        "id": "qKdkGdEYUO6e",
        "outputId": "ae0ee2ae-5489-4889-95d6-9f03e0d7c312"
      },
      "source": [
        "print(test_images.shape, test_labels.shape)"
      ],
      "execution_count": 4,
      "outputs": [
        {
          "output_type": "stream",
          "name": "stdout",
          "text": [
            "(10000, 28, 28) (10000,)\n"
          ]
        }
      ]
    },
    {
      "cell_type": "code",
      "metadata": {
        "id": "mHBNF6RGU5Qo"
      },
      "source": [
        "# Normalizing Train and Test Images\n",
        "train_images = train_images.reshape((train_images.shape[0], 28, 28, 1))\n",
        "test_images = test_images.reshape((test_images.shape[0], 28, 28, 1))\n",
        "\n",
        "train_images, train_labels = train_images / 255.0, to_categorical(train_labels)\n",
        "test_images, test_labels = test_images / 255.0, to_categorical(test_labels)"
      ],
      "execution_count": 5,
      "outputs": []
    },
    {
      "cell_type": "code",
      "metadata": {
        "id": "LZGUf5KwVyDk"
      },
      "source": [
        "def cnn_model():\n",
        "  model = Sequential()\n",
        "  model.add(Conv2D(32, (3,3), activation='relu', input_shape=(28,28,1)))\n",
        "  model.add(Conv2D(64, (3,3), activation='relu'))\n",
        "  model.add(MaxPooling2D((2,2)))\n",
        "  model.add(Dropout(0.5))\n",
        "  model.add(Conv2D(128, (3,3), activation='relu'))\n",
        "  model.add(MaxPooling2D((2,2)))\n",
        "  model.add(Dropout(0.5))\n",
        "  model.add(Flatten())\n",
        "  model.add(Dense(128, activation='relu', kernel_initializer = 'he_uniform'))\n",
        "  model.add(Dense(10, 'softmax'))\n",
        "  return model"
      ],
      "execution_count": 6,
      "outputs": []
    },
    {
      "cell_type": "code",
      "metadata": {
        "colab": {
          "base_uri": "https://localhost:8080/"
        },
        "id": "Nw0Kcgy6XuoU",
        "outputId": "568e83d8-2484-4559-f857-92f1f2084f94"
      },
      "source": [
        "optimizer = 'adam'\n",
        "model = cnn_model()\n",
        "model.compile(optimizer=optimizer, loss='categorical_crossentropy', metrics=['accuracy'])\n",
        "\n",
        "validation_callback = tf.keras.callbacks.EarlyStopping(\n",
        "    monitor=\"val_accuracy\",\n",
        "    verbose=1,\n",
        "    mode=\"auto\",\n",
        "    patience = 5,\n",
        "    baseline=None,\n",
        "    restore_best_weights=True,\n",
        ")\n",
        "\n",
        "history = model.fit(train_images, train_labels,\n",
        "                     epochs=50, batch_size=512,\n",
        "                     verbose=1, callbacks = [validation_callback], validation_split=0.2)"
      ],
      "execution_count": 7,
      "outputs": [
        {
          "output_type": "stream",
          "name": "stdout",
          "text": [
            "Epoch 1/50\n",
            "94/94 [==============================] - 37s 65ms/step - loss: 0.8153 - accuracy: 0.6981 - val_loss: 0.4936 - val_accuracy: 0.8243\n",
            "Epoch 2/50\n",
            "94/94 [==============================] - 5s 56ms/step - loss: 0.4814 - accuracy: 0.8245 - val_loss: 0.3991 - val_accuracy: 0.8588\n",
            "Epoch 3/50\n",
            "94/94 [==============================] - 5s 55ms/step - loss: 0.4176 - accuracy: 0.8490 - val_loss: 0.3671 - val_accuracy: 0.8717\n",
            "Epoch 4/50\n",
            "94/94 [==============================] - 5s 55ms/step - loss: 0.3745 - accuracy: 0.8644 - val_loss: 0.3365 - val_accuracy: 0.8792\n",
            "Epoch 5/50\n",
            "94/94 [==============================] - 5s 57ms/step - loss: 0.3479 - accuracy: 0.8729 - val_loss: 0.3130 - val_accuracy: 0.8888\n",
            "Epoch 6/50\n",
            "94/94 [==============================] - 5s 56ms/step - loss: 0.3243 - accuracy: 0.8807 - val_loss: 0.3169 - val_accuracy: 0.8831\n",
            "Epoch 7/50\n",
            "94/94 [==============================] - 5s 56ms/step - loss: 0.3083 - accuracy: 0.8887 - val_loss: 0.2797 - val_accuracy: 0.9009\n",
            "Epoch 8/50\n",
            "94/94 [==============================] - 5s 56ms/step - loss: 0.2955 - accuracy: 0.8918 - val_loss: 0.2685 - val_accuracy: 0.9052\n",
            "Epoch 9/50\n",
            "94/94 [==============================] - 5s 56ms/step - loss: 0.2799 - accuracy: 0.8968 - val_loss: 0.2615 - val_accuracy: 0.9092\n",
            "Epoch 10/50\n",
            "94/94 [==============================] - 5s 56ms/step - loss: 0.2702 - accuracy: 0.9003 - val_loss: 0.2498 - val_accuracy: 0.9110\n",
            "Epoch 11/50\n",
            "94/94 [==============================] - 5s 56ms/step - loss: 0.2591 - accuracy: 0.9032 - val_loss: 0.2428 - val_accuracy: 0.9122\n",
            "Epoch 12/50\n",
            "94/94 [==============================] - 5s 56ms/step - loss: 0.2505 - accuracy: 0.9073 - val_loss: 0.2365 - val_accuracy: 0.9148\n",
            "Epoch 13/50\n",
            "94/94 [==============================] - 5s 56ms/step - loss: 0.2419 - accuracy: 0.9100 - val_loss: 0.2283 - val_accuracy: 0.9172\n",
            "Epoch 14/50\n",
            "94/94 [==============================] - 5s 57ms/step - loss: 0.2373 - accuracy: 0.9122 - val_loss: 0.2267 - val_accuracy: 0.9172\n",
            "Epoch 15/50\n",
            "94/94 [==============================] - 5s 56ms/step - loss: 0.2293 - accuracy: 0.9151 - val_loss: 0.2247 - val_accuracy: 0.9196\n",
            "Epoch 16/50\n",
            "94/94 [==============================] - 5s 57ms/step - loss: 0.2220 - accuracy: 0.9181 - val_loss: 0.2184 - val_accuracy: 0.9224\n",
            "Epoch 17/50\n",
            "94/94 [==============================] - 5s 56ms/step - loss: 0.2169 - accuracy: 0.9199 - val_loss: 0.2149 - val_accuracy: 0.9237\n",
            "Epoch 18/50\n",
            "94/94 [==============================] - 5s 56ms/step - loss: 0.2090 - accuracy: 0.9231 - val_loss: 0.2103 - val_accuracy: 0.9233\n",
            "Epoch 19/50\n",
            "94/94 [==============================] - 6s 59ms/step - loss: 0.2043 - accuracy: 0.9234 - val_loss: 0.2158 - val_accuracy: 0.9220\n",
            "Epoch 20/50\n",
            "94/94 [==============================] - 5s 57ms/step - loss: 0.2020 - accuracy: 0.9251 - val_loss: 0.2046 - val_accuracy: 0.9253\n",
            "Epoch 21/50\n",
            "94/94 [==============================] - 5s 57ms/step - loss: 0.1968 - accuracy: 0.9264 - val_loss: 0.2012 - val_accuracy: 0.9262\n",
            "Epoch 22/50\n",
            "94/94 [==============================] - 5s 56ms/step - loss: 0.1930 - accuracy: 0.9290 - val_loss: 0.2029 - val_accuracy: 0.9266\n",
            "Epoch 23/50\n",
            "94/94 [==============================] - 5s 56ms/step - loss: 0.1876 - accuracy: 0.9298 - val_loss: 0.2013 - val_accuracy: 0.9283\n",
            "Epoch 24/50\n",
            "94/94 [==============================] - 5s 56ms/step - loss: 0.1863 - accuracy: 0.9319 - val_loss: 0.1988 - val_accuracy: 0.9279\n",
            "Epoch 25/50\n",
            "94/94 [==============================] - 5s 56ms/step - loss: 0.1789 - accuracy: 0.9331 - val_loss: 0.1972 - val_accuracy: 0.9280\n",
            "Epoch 26/50\n",
            "94/94 [==============================] - 5s 56ms/step - loss: 0.1776 - accuracy: 0.9348 - val_loss: 0.1972 - val_accuracy: 0.9279\n",
            "Epoch 27/50\n",
            "94/94 [==============================] - 5s 56ms/step - loss: 0.1742 - accuracy: 0.9354 - val_loss: 0.1945 - val_accuracy: 0.9301\n",
            "Epoch 28/50\n",
            "94/94 [==============================] - 5s 57ms/step - loss: 0.1711 - accuracy: 0.9371 - val_loss: 0.1949 - val_accuracy: 0.9285\n",
            "Epoch 29/50\n",
            "94/94 [==============================] - 5s 56ms/step - loss: 0.1694 - accuracy: 0.9364 - val_loss: 0.1907 - val_accuracy: 0.9323\n",
            "Epoch 30/50\n",
            "94/94 [==============================] - 5s 57ms/step - loss: 0.1621 - accuracy: 0.9399 - val_loss: 0.1927 - val_accuracy: 0.9304\n",
            "Epoch 31/50\n",
            "94/94 [==============================] - 5s 56ms/step - loss: 0.1620 - accuracy: 0.9384 - val_loss: 0.1923 - val_accuracy: 0.9306\n",
            "Epoch 32/50\n",
            "94/94 [==============================] - 5s 56ms/step - loss: 0.1570 - accuracy: 0.9408 - val_loss: 0.1889 - val_accuracy: 0.9293\n",
            "Epoch 33/50\n",
            "94/94 [==============================] - 5s 56ms/step - loss: 0.1567 - accuracy: 0.9411 - val_loss: 0.1906 - val_accuracy: 0.9308\n",
            "Epoch 34/50\n",
            "94/94 [==============================] - 5s 57ms/step - loss: 0.1533 - accuracy: 0.9420 - val_loss: 0.1908 - val_accuracy: 0.9321\n",
            "Restoring model weights from the end of the best epoch.\n",
            "Epoch 00034: early stopping\n"
          ]
        }
      ]
    },
    {
      "cell_type": "code",
      "metadata": {
        "colab": {
          "base_uri": "https://localhost:8080/"
        },
        "id": "ssUDd9Xfu6j1",
        "outputId": "3bf97694-f60f-448d-9bca-b63f98df02a8"
      },
      "source": [
        "test_loss, test_accuracy = model.evaluate(test_images, test_labels)\n",
        "print(test_loss, test_accuracy)"
      ],
      "execution_count": 8,
      "outputs": [
        {
          "output_type": "stream",
          "name": "stdout",
          "text": [
            "313/313 [==============================] - 2s 5ms/step - loss: 0.2020 - accuracy: 0.9279\n",
            "0.20203310251235962 0.9279000163078308\n"
          ]
        }
      ]
    },
    {
      "cell_type": "code",
      "metadata": {
        "id": "Vjm200oVvoLh"
      },
      "source": [
        "def plot_accuracy_and_loss(history):\n",
        "    acc = history.history['accuracy']\n",
        "    val_acc = history.history['val_accuracy']\n",
        "    loss = history.history['loss']\n",
        "    val_loss = history.history['val_loss']\n",
        "\n",
        "    epochs = range(1, len(acc) + 1)\n",
        "\n",
        "    plt.plot(epochs, acc, 'bo', label='Training acc')\n",
        "    plt.plot(epochs, val_acc, 'b', label='Validation acc')\n",
        "    plt.title('Training and validation accuracy')\n",
        "    plt.legend()\n",
        "    plt.show()\n",
        "\n",
        "    plt.plot(epochs, loss, 'bo', label='Training loss')\n",
        "    plt.plot(epochs, val_loss, 'b', label='Validation loss')\n",
        "    plt.title('Training and validation loss')\n",
        "    plt.legend()\n",
        "    plt.show()"
      ],
      "execution_count": 15,
      "outputs": []
    },
    {
      "cell_type": "code",
      "metadata": {
        "colab": {
          "base_uri": "https://localhost:8080/",
          "height": 545
        },
        "id": "jBInOHkuyHNI",
        "outputId": "66b9d64f-6860-48d7-dbea-2d5f27031ee7"
      },
      "source": [
        "plot_accuracy_and_loss(history)"
      ],
      "execution_count": 16,
      "outputs": [
        {
          "output_type": "display_data",
          "data": {
            "image/png": "[encoded data removed]",
            "text/plain": [
              "<Figure size 432x288 with 1 Axes>"
            ]
          },
          "metadata": {
            "needs_background": "light"
          }
        },
        {
          "output_type": "display_data",
          "data": {
            "image/png": "[encoded data removed]",
            "text/plain": [
              "<Figure size 432x288 with 1 Axes>"
            ]
          },
          "metadata": {
            "needs_background": "light"
          }
        }
      ]
    },
    {
      "cell_type": "code",
      "metadata": {
        "colab": {
          "base_uri": "https://localhost:8080/"
        },
        "id": "VLtXNyWAYcV2",
        "outputId": "32161d1d-9831-4ab9-ed41-3d0d2527456b"
      },
      "source": [
        "model.save(\"fashion_mnist_cnn\")"
      ],
      "execution_count": 17,
      "outputs": [
        {
          "output_type": "stream",
          "name": "stdout",
          "text": [
            "INFO:tensorflow:Assets written to: fashion_mnist_cnn/assets\n"
          ]
        }
      ]
    },
    {
      "cell_type": "code",
      "metadata": {
        "colab": {
          "base_uri": "https://localhost:8080/",
          "height": 156
        },
        "id": "lVAJTXdl6mw3",
        "outputId": "16d6e51d-7d3f-4837-efc5-1e057a4a9cfe"
      },
      "source": [
        "!zip -r /content/models.zip /content/models\n",
        "from google.colab import files\n",
        "files.download(\"/content/models.zip\")"
      ],
      "execution_count": null,
      "outputs": [
        {
          "output_type": "stream",
          "name": "stdout",
          "text": [
            "  adding: content/models/ (stored 0%)\n",
            "  adding: content/models/fashion_mnist_cnn/ (stored 0%)\n",
            "  adding: content/models/fashion_mnist_cnn/variables/ (stored 0%)\n",
            "  adding: content/models/fashion_mnist_cnn/variables/variables.data-00000-of-00001 (deflated 8%)\n",
            "  adding: content/models/fashion_mnist_cnn/variables/variables.index (deflated 66%)\n",
            "  adding: content/models/fashion_mnist_cnn/saved_model.pb (deflated 89%)\n",
            "  adding: content/models/fashion_mnist_cnn/keras_metadata.pb (deflated 91%)\n",
            "  adding: content/models/fashion_mnist_cnn/assets/ (stored 0%)\n"
          ]
        },
        {
          "output_type": "display_data",
          "data": {
            "application/javascript": [
              "\n",
              "    async function download(id, filename, size) {\n",
              "      if (!google.colab.kernel.accessAllowed) {\n",
              "        return;\n",
              "      }\n",
              "      const div = document.createElement('div');\n",
              "      const label = document.createElement('label');\n",
              "      label.textContent = `Downloading \"${filename}\": `;\n",
              "      div.appendChild(label);\n",
              "      const progress = document.createElement('progress');\n",
              "      progress.max = size;\n",
              "      div.appendChild(progress);\n",
              "      document.body.appendChild(div);\n",
              "\n",
              "      const buffers = [];\n",
              "      let downloaded = 0;\n",
              "\n",
              "      const channel = await google.colab.kernel.comms.open(id);\n",
              "      // Send a message to notify the kernel that we're ready.\n",
              "      channel.send({})\n",
              "\n",
              "      for await (const message of channel.messages) {\n",
              "        // Send a message to notify the kernel that we're ready.\n",
              "        channel.send({})\n",
              "        if (message.buffers) {\n",
              "          for (const buffer of message.buffers) {\n",
              "            buffers.push(buffer);\n",
              "            downloaded += buffer.byteLength;\n",
              "            progress.value = downloaded;\n",
              "          }\n",
              "        }\n",
              "      }\n",
              "      const blob = new Blob(buffers, {type: 'application/binary'});\n",
              "      const a = document.createElement('a');\n",
              "      a.href = window.URL.createObjectURL(blob);\n",
              "      a.download = filename;\n",
              "      div.appendChild(a);\n",
              "      a.click();\n",
              "      div.remove();\n",
              "    }\n",
              "  "
            ],
            "text/plain": [
              "<IPython.core.display.Javascript object>"
            ]
          },
          "metadata": {}
        },
        {
          "output_type": "display_data",
          "data": {
            "application/javascript": [
              "download(\"download_a4a61294-b713-4b99-9543-bc5972d26211\", \"models.zip\", 5580694)"
            ],
            "text/plain": [
              "<IPython.core.display.Javascript object>"
            ]
          },
          "metadata": {}
        }
      ]
    }
  ]
}